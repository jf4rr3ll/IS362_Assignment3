{
 "cells": [
  {
   "cell_type": "markdown",
   "metadata": {},
   "source": [
    "# New York to Florida Bike Trip"
   ]
  },
  {
   "cell_type": "markdown",
   "metadata": {},
   "source": [
    "Suppose you have ridden a bicycle from New York City to Key West, Florida.  Your bicycle odometer shows the total miles, which you have dutifully logged at the end of each day with paper and pencil.  Your first two entries might be 55 and 120, indicating that you rode your bike 55 miles on day 1 and 65 miles on day 2.  Your task is to create a pandas Series object that holds the cumulative miles at the end of each day, then use your Python skills to show the total miles that you rode each day."
   ]
  },
  {
   "cell_type": "markdown",
   "metadata": {},
   "source": [
    "First, I've created two variables: \"dates\" to hold the date range for the values we're looking at that will serve as the index for the Pandas series object, as well as \"odometer\", the series object that will track the number of miles logged on the odometer each day:"
   ]
  },
  {
   "cell_type": "code",
   "execution_count": 5,
   "metadata": {
    "collapsed": false
   },
   "outputs": [
    {
     "name": "stdout",
     "output_type": "stream",
     "text": [
      "2014-07-01     55\n",
      "2014-07-02    120\n",
      "2014-07-03    176\n",
      "2014-07-04    228\n",
      "2014-07-05    301\n",
      "2014-07-06    366\n",
      "2014-07-07    423\n",
      "Freq: D, dtype: int64\n"
     ]
    }
   ],
   "source": [
    "import pandas as pd\n",
    "import datetime\n",
    "\n",
    "dates = pd.date_range('2014-07-01', '2014-07-07')\n",
    "odometer = pd.Series([55, 120, 176, 228, 301, 366, 423],\n",
    "                    index = dates)\n",
    "\n",
    "print (odometer)"
   ]
  },
  {
   "cell_type": "markdown",
   "metadata": {},
   "source": [
    "We know the cumulative miles at the end of each day, but we also want to calculate how many miles were ridden each day. "
   ]
  },
  {
   "cell_type": "code",
   "execution_count": 6,
   "metadata": {
    "collapsed": false
   },
   "outputs": [
    {
     "name": "stdout",
     "output_type": "stream",
     "text": [
      "2014-07-01 00:00:00: 55 miles\n",
      "2014-07-02 00:00:00: 65 miles\n",
      "2014-07-03 00:00:00: 56 miles\n",
      "2014-07-04 00:00:00: 52 miles\n",
      "2014-07-05 00:00:00: 73 miles\n",
      "2014-07-06 00:00:00: 65 miles\n",
      "2014-07-07 00:00:00: 57 miles\n"
     ]
    }
   ],
   "source": [
    "miles_per_day = {}\n",
    "yesterdays_odometer = 0\n",
    "\n",
    "for day, odom_miles in odometer.items():\n",
    "    \n",
    "    todays_miles = odom_miles - yesterdays_odometer\n",
    "    \n",
    "    miles_per_day[day] = todays_miles\n",
    "    \n",
    "    print (str(day) + ': ' + str(todays_miles) + ' miles')\n",
    "    \n",
    "    yesterdays_odometer = odom_miles\n",
    "    "
   ]
  },
  {
   "cell_type": "code",
   "execution_count": 7,
   "metadata": {
    "collapsed": false
   },
   "outputs": [
    {
     "name": "stdout",
     "output_type": "stream",
     "text": [
      "2014-07-01    55\n",
      "2014-07-02    65\n",
      "2014-07-03    56\n",
      "2014-07-04    52\n",
      "2014-07-05    73\n",
      "2014-07-06    65\n",
      "2014-07-07    57\n",
      "dtype: int64\n"
     ]
    }
   ],
   "source": [
    "miles_per_day = pd.Series(miles_per_day)\n",
    "print(miles_per_day)"
   ]
  }
 ],
 "metadata": {
  "kernelspec": {
   "display_name": "Python 3",
   "language": "python",
   "name": "python3"
  },
  "language_info": {
   "codemirror_mode": {
    "name": "ipython",
    "version": 3
   },
   "file_extension": ".py",
   "mimetype": "text/x-python",
   "name": "python",
   "nbconvert_exporter": "python",
   "pygments_lexer": "ipython3",
   "version": "3.6.0"
  }
 },
 "nbformat": 4,
 "nbformat_minor": 0
}
